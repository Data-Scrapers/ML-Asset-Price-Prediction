{
 "cells": [
  {
   "cell_type": "markdown",
   "id": "a6641779",
   "metadata": {},
   "source": [
    "# News Data Gathering\n",
    "This notebook contains the logic for gathering news datasets for the project. Data is gathered from the AlphaVantage API where the rate limiting is 15 requests per minute. Helper functions are provided to specify date ranges for specific assets to download data while automatically avoiding hitting the rate limit.\n",
    "\n",
    "**_getNewsData_**: Gets data for a specific asset for a specific month and specific time interval (1 hour etc).\n",
    "\n",
    "**_getDataforPeriod_**: Reuses the _getNewsData_ function multiple times over different months to gather data for a range of specified years. (03-2022 - 09-2023)."
   ]
  },
  {
   "cell_type": "code",
   "execution_count": 1,
   "id": "576c2e35",
   "metadata": {},
   "outputs": [],
   "source": [
    "import requests\n",
    "import pandas as pd\n",
    "import numpy as np\n",
    "import time\n",
    "from datetime import datetime\n",
    "from dateutil.relativedelta import relativedelta"
   ]
  },
  {
   "cell_type": "code",
   "execution_count": 2,
   "id": "161dbc2c",
   "metadata": {},
   "outputs": [],
   "source": [
    "def getNewsData(API_KEY, tickers, time_from, time_to, count=0):\n",
    "    tickerString = \"\"\n",
    "    topicString = \"\"\n",
    "    fromString = \"\"\n",
    "    toString = \"\"\n",
    "\n",
    "    count = checkRequests(count)\n",
    "\n",
    "    if tickers != None:\n",
    "        tickerString = f\"&tickers={tickers}\"\n",
    "    if time_from != None:\n",
    "        fromString = f\"&time_from={time_from}\"\n",
    "    if time_to != None:\n",
    "        toString = f\"&time_to={time_to}\"\n",
    "    \n",
    "    URL = f\"https://www.alphavantage.co/query?function=NEWS_SENTIMENT{tickerString}{fromString}{toString}&apikey={API_KEY}&limit=1000&sort=EARLIEST\"\n",
    "    response = requests.get(URL)\n",
    "    data = response.json()\n",
    "    data = data['feed']\n",
    "    df = pd.DataFrame.from_dict(data)\n",
    "    return df, count\n",
    "\n",
    "def checkRequests(count):\n",
    "    if count == 75:\n",
    "        print(\"API requests reached for min... Waiting\")\n",
    "        time.sleep(62)\n",
    "        count = 0\n",
    "    count += 1\n",
    "    return count\n",
    "\n",
    "def getDataForPeriod(API_KEY, tickers, dateStart, dateEnd, count):\n",
    "    start = datetime.strptime(dateStart, '%Y%m%d')\n",
    "    end = datetime.strptime(dateEnd, '%Y%m%d')\n",
    "    dfList = []\n",
    "\n",
    "    current = start\n",
    "    print(f\"Getting data for {tickers} from {start.date()} to {end.date()}\")\n",
    "    while current < end:\n",
    "        time_from = current.strftime('%Y%m%dT0001')\n",
    "        if (current + relativedelta(weeks=3)) > end:\n",
    "            current = end\n",
    "        else:\n",
    "            current += relativedelta(weeks=3)\n",
    "        time_to = current.strftime('%Y%m%dT2359')\n",
    "        df, count = getNewsData(API_KEY=API_KEY, tickers=tickers, time_from=time_from, time_to=time_to, count=count)\n",
    "        dfList.append(df)\n",
    "    full_df = pd.concat(dfList, ignore_index=True)\n",
    "    return full_df, count"
   ]
  },
  {
   "cell_type": "markdown",
   "id": "2b491d49",
   "metadata": {},
   "source": [
    "### Data Gathering\n",
    "\n",
    "News that contain the assets either in the heading or content is retrieved for all 5 assets (**AAPL**, **TSLA**, **AMZN**, **BTC**, **ETH**)."
   ]
  },
  {
   "cell_type": "code",
   "execution_count": 3,
   "id": "e3ffca6e",
   "metadata": {},
   "outputs": [
    {
     "name": "stdout",
     "output_type": "stream",
     "text": [
      "Getting data for AAPL from 2022-03-01 to 2023-09-30\n",
      "Getting data for TSLA from 2022-03-01 to 2023-09-30\n",
      "Getting data for AMZN from 2022-03-01 to 2023-09-30\n",
      "API requests reached for min... Waiting\n",
      "Getting data for CRYPTO:BTC from 2022-03-01 to 2023-09-30\n",
      "Getting data for CRYPTO:ETH from 2022-03-01 to 2023-09-30\n"
     ]
    }
   ],
   "source": [
    "API_KEY = \"5HUC90FRQ4H9PK0Q\"\n",
    "count = 0\n",
    "aapl_df, count = getDataForPeriod(API_KEY=API_KEY, tickers=\"AAPL\", dateStart=\"20220301\", dateEnd=\"20230930\", count=count)\n",
    "tsla_df, count = getDataForPeriod(API_KEY=API_KEY, tickers=\"TSLA\", dateStart=\"20220301\", dateEnd=\"20230930\", count=count)\n",
    "amzn_df, count = getDataForPeriod(API_KEY=API_KEY, tickers=\"AMZN\", dateStart=\"20220301\", dateEnd=\"20230930\", count=count)\n",
    "btc_df, count = getDataForPeriod(API_KEY=API_KEY, tickers=\"CRYPTO:BTC\", dateStart=\"20220301\", dateEnd=\"20230930\", count=count)\n",
    "eth_df, count = getDataForPeriod(API_KEY=API_KEY, tickers=\"CRYPTO:ETH\", dateStart=\"20220301\", dateEnd=\"20230930\", count=count)"
   ]
  },
  {
   "cell_type": "code",
   "execution_count": 4,
   "id": "917add74",
   "metadata": {},
   "outputs": [
    {
     "name": "stdout",
     "output_type": "stream",
     "text": [
      "AAPL Data: (16391, 13)\n",
      "TSLA Data: (19613, 13)\n",
      "AMZN Data: (11988, 13)\n",
      "BTC Data: (20150, 13)\n",
      "ETH Data: (19167, 13)\n"
     ]
    }
   ],
   "source": [
    "print(f\"AAPL Data: {aapl_df.shape}\")\n",
    "print(f\"TSLA Data: {tsla_df.shape}\")\n",
    "print(f\"AMZN Data: {amzn_df.shape}\")\n",
    "print(f\"BTC Data: {btc_df.shape}\")\n",
    "print(f\"ETH Data: {eth_df.shape}\")"
   ]
  },
  {
   "cell_type": "markdown",
   "id": "263f9baf",
   "metadata": {},
   "source": [
    "### Store Datasets\n",
    "\n",
    "All the datasets either loaded from APIs or generated with resampling are now saved to the datasets directory."
   ]
  },
  {
   "cell_type": "code",
   "execution_count": 5,
   "id": "82ce4740",
   "metadata": {},
   "outputs": [],
   "source": [
    "import os\n",
    "\n",
    "directories = [\"./datasets/stocks/news\", \"./datasets/crypto/news\"]\n",
    "for dir in directories:\n",
    "    os.makedirs(dir, exist_ok=True)\n",
    "\n",
    "aapl_df.to_csv(\"datasets/stocks/news/AAPL_news.csv\")\n",
    "tsla_df.to_csv(\"datasets/stocks/news/TSLA_news.csv\")\n",
    "amzn_df.to_csv(\"datasets/stocks/news/AMZN_news.csv\")\n",
    "eth_df.to_csv(\"datasets/crypto/news/ETH_news.csv\")\n",
    "btc_df.to_csv(\"datasets/crypto/news/BTC_news.csv\")"
   ]
  }
 ],
 "metadata": {
  "kernelspec": {
   "display_name": "base",
   "language": "python",
   "name": "python3"
  },
  "language_info": {
   "codemirror_mode": {
    "name": "ipython",
    "version": 3
   },
   "file_extension": ".py",
   "mimetype": "text/x-python",
   "name": "python",
   "nbconvert_exporter": "python",
   "pygments_lexer": "ipython3",
   "version": "3.12.3"
  }
 },
 "nbformat": 4,
 "nbformat_minor": 5
}
