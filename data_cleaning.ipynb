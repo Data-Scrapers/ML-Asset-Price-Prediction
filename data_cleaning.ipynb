{
 "cells": [
  {
   "cell_type": "code",
   "execution_count": null,
   "id": "473a5dbf",
   "metadata": {},
   "outputs": [],
   "source": [
    "import pandas as pd\n",
    "import numpy as np\n",
    "import matplotlib as plt\n",
    "import seaborn as sns"
   ]
  },
  {
   "cell_type": "code",
   "execution_count": null,
   "id": "a4188afe",
   "metadata": {},
   "outputs": [],
   "source": [
    "btc_hourly = pd.read_csv(\"./datasets/crypto/hourly/BTC.csv\")\n",
    "btc_hourly"
   ]
  },
  {
   "cell_type": "code",
   "execution_count": null,
   "id": "df428612",
   "metadata": {},
   "outputs": [],
   "source": [
    "eth_hourly = pd.read_csv(\"./datasets/crypto/hourly/ETH.csv\")\n",
    "eth_hourly"
   ]
  },
  {
   "cell_type": "code",
   "execution_count": null,
   "id": "24e1a42c",
   "metadata": {},
   "outputs": [],
   "source": [
    "aapl_hourly = pd.read_csv(\"./datasets/stocks/hourly/AAPL.csv\")\n",
    "aapl_hourly"
   ]
  },
  {
   "cell_type": "code",
   "execution_count": null,
   "id": "05234a80",
   "metadata": {},
   "outputs": [],
   "source": [
    "tsla_hourly = pd.read_csv(\"./datasets/stocks/hourly/TSLA.csv\")\n",
    "tsla_hourly"
   ]
  },
  {
   "cell_type": "code",
   "execution_count": null,
   "id": "5cf9119f",
   "metadata": {},
   "outputs": [],
   "source": [
    "amzn_hourly = pd.read_csv(\"./datasets/stocks/hourly/AMZN.csv\")\n",
    "amzn_hourly"
   ]
  }
 ],
 "metadata": {
  "kernelspec": {
   "display_name": "base",
   "language": "python",
   "name": "python3"
  },
  "language_info": {
   "codemirror_mode": {
    "name": "ipython",
    "version": 3
   },
   "file_extension": ".py",
   "mimetype": "text/x-python",
   "name": "python",
   "nbconvert_exporter": "python",
   "pygments_lexer": "ipython3",
   "version": "3.12.7"
  }
 },
 "nbformat": 4,
 "nbformat_minor": 5
}
