{
 "cells": [
  {
   "cell_type": "code",
   "execution_count": 1,
   "id": "68158228",
   "metadata": {},
   "outputs": [],
   "source": [
    "import pandas as pd\n",
    "import numpy as np\n",
    "import ast\n",
    "import re"
   ]
  },
  {
   "cell_type": "markdown",
   "id": "f3b1bd15",
   "metadata": {},
   "source": [
    "### Data Cleaning and Preprocessing\n",
    "- Selects only the required columns\n",
    "- Drops NaN records and duplicates\n",
    "- Extracts ticker information for only the specified ticker in question\n",
    "- Extracts topics and relevance for each news record\n",
    "- Cleans title and summary text of news record\n",
    "- Sets timestamp as index"
   ]
  },
  {
   "cell_type": "code",
   "execution_count": 2,
   "id": "d9a950db",
   "metadata": {},
   "outputs": [],
   "source": [
    "all_topics = []\n",
    "\n",
    "def clean_data(df):\n",
    "    copy_df = df.copy()\n",
    "    copy_df = copy_df[['title', 'time_published', 'summary', 'topics', 'overall_sentiment_score', 'ticker_sentiment']]\n",
    "    \n",
    "    for topic_list in copy_df['topics']:\n",
    "        topic_list = ast.literal_eval(topic_list)\n",
    "        for topic_dict in topic_list:\n",
    "            if topic_dict['topic'] not in all_topics:\n",
    "                all_topics.append(topic_dict['topic'])\n",
    "\n",
    "    copy_df[['ticker_relevance', 'ticker_sentiment']] = copy_df['ticker_sentiment'].apply(add_ticker_info)\n",
    "    weighted_df = copy_df['topics'].apply(add_topic_relevance)\n",
    "    weighted_df = weighted_df.rename(columns=lambda x: f\"topic_{x}\")\n",
    "    copy_df = pd.concat([copy_df, weighted_df], axis = 1)\n",
    "    copy_df = copy_df.drop(columns=['topics'])\n",
    "\n",
    "    copy_df['time_published'] = pd.to_datetime(copy_df['time_published'], format='%Y%m%dT%H%M%S')\n",
    "    copy_df['time_published'] = copy_df['time_published'].dt.strftime('%Y-%m-%d %H:%M:%S')\n",
    "    copy_df = copy_df.rename(columns={'time_published': 'timestamp'})\n",
    "    copy_df = copy_df.drop_duplicates()\n",
    "    copy_df = copy_df.dropna()\n",
    "    copy_df['title'] = copy_df['title'].apply(clean_text)\n",
    "    copy_df['summary'] = copy_df['summary'].apply(clean_text)\n",
    "    copy_df = copy_df.set_index('timestamp')\n",
    "    return copy_df\n",
    "\n",
    "def add_topic_relevance(topics_row):\n",
    "    if isinstance(topics_row, str):\n",
    "        topics_list = ast.literal_eval(topics_row)\n",
    "    else:\n",
    "        topics_list = topics_row\n",
    "\n",
    "    topic_weights = {topic: 0.0 for topic in all_topics}\n",
    "\n",
    "    for topic_info in topics_list:\n",
    "        topic_name = topic_info['topic']\n",
    "        relevance = float(topic_info['relevance_score'])\n",
    "        if topic_name in topic_weights:\n",
    "            topic_weights[topic_name] = relevance\n",
    "\n",
    "    return pd.Series(topic_weights)\n",
    "\n",
    "\n",
    "def add_ticker_info(ticker_row):\n",
    "    if isinstance(ticker_row, str):\n",
    "        ticker_list = ast.literal_eval(ticker_row)\n",
    "    else:\n",
    "        ticker_list = ticker_row\n",
    "\n",
    "    for ticker_info in ticker_list:\n",
    "        if ticker_info['ticker'] == 'AAPL':\n",
    "            relevance = float(ticker_info['relevance_score'])\n",
    "            sentiment = float(ticker_info['ticker_sentiment_score'])\n",
    "            return pd.Series([relevance, sentiment])\n",
    "    \n",
    "    return pd.Series([0.0, 0.0])\n",
    "\n",
    "def clean_text(text):\n",
    "    if pd.isnull(text):\n",
    "        return \"\"\n",
    "    text = text.lower()\n",
    "    text = re.sub(r\"[^\\w\\s]\", \"\", text)\n",
    "    text = re.sub(r\"\\s+\", \" \", text).strip()\n",
    "    return text"
   ]
  },
  {
   "cell_type": "code",
   "execution_count": null,
   "id": "344fca61",
   "metadata": {},
   "outputs": [],
   "source": [
    "# Read data for all 5 assets into dataframes\n",
    "aapl_df = pd.read_csv('./datasets/stocks/news/AAPL_news.csv')\n",
    "tsla_df = pd.read_csv('./datasets/stocks/news/TSLA_news.csv')\n",
    "amzn_df = pd.read_csv('./datasets/stocks/news/AMZN_news.csv')\n",
    "btc_df = pd.read_csv('./datasets/crypto/news/BTC_news.csv')\n",
    "eth_df = pd.read_csv('./datasets/crypto/news/ETH_news.csv')"
   ]
  },
  {
   "cell_type": "code",
   "execution_count": null,
   "id": "af3e52a3",
   "metadata": {},
   "outputs": [],
   "source": [
    "# Apply cleaning to all 5 datasets\n",
    "aapl_df = clean_data(aapl_df)\n",
    "tsla_df = clean_data(tsla_df)\n",
    "amzn_df = clean_data(amzn_df)\n",
    "btc_df = clean_data(btc_df)\n",
    "eth_df = clean_data(eth_df)"
   ]
  },
  {
   "cell_type": "markdown",
   "id": "66c0a16b",
   "metadata": {},
   "source": [
    "### Store Cleaned Datasets\n",
    "\n",
    "All the news datasets are overwritten with the cleaned and preprocessed data in the news directory."
   ]
  },
  {
   "cell_type": "code",
   "execution_count": 5,
   "id": "e16ff788",
   "metadata": {},
   "outputs": [],
   "source": [
    "import os\n",
    "\n",
    "directories = [\"./datasets/stocks/news\", \"./datasets/crypto/news\"]\n",
    "for dir in directories:\n",
    "    os.makedirs(dir, exist_ok=True)\n",
    "\n",
    "aapl_df.to_csv(\"datasets/stocks/news/AAPL_news.csv\")\n",
    "tsla_df.to_csv(\"datasets/stocks/news/TSLA_news.csv\")\n",
    "amzn_df.to_csv(\"datasets/stocks/news/AMZN_news.csv\")\n",
    "eth_df.to_csv(\"datasets/crypto/news/ETH_news.csv\")\n",
    "btc_df.to_csv(\"datasets/crypto/news/BTC_news.csv\")"
   ]
  }
 ],
 "metadata": {
  "kernelspec": {
   "display_name": "base",
   "language": "python",
   "name": "python3"
  },
  "language_info": {
   "codemirror_mode": {
    "name": "ipython",
    "version": 3
   },
   "file_extension": ".py",
   "mimetype": "text/x-python",
   "name": "python",
   "nbconvert_exporter": "python",
   "pygments_lexer": "ipython3",
   "version": "3.12.3"
  }
 },
 "nbformat": 4,
 "nbformat_minor": 5
}
